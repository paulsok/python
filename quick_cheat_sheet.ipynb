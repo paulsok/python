{
 "cells": [
  {
   "cell_type": "markdown",
   "source": [
    "# Python"
   ],
   "metadata": {}
  },
  {
   "cell_type": "markdown",
   "source": [
    "**if**"
   ],
   "metadata": {}
  },
  {
   "cell_type": "code",
   "execution_count": 1,
   "source": [
    "import sys\n",
    "\n",
    "if sys.version_info.major < 3:\n",
    "    print('python 2.x')\n",
    "elif sys.version_info.major > 3:\n",
    "    print('Future')\n",
    "else:\n",
    "    print('Version 3.x')\n"
   ],
   "outputs": [
    {
     "output_type": "stream",
     "name": "stdout",
     "text": [
      "Version 3.x\n"
     ]
    }
   ],
   "metadata": {}
  },
  {
   "cell_type": "markdown",
   "source": [
    "**for**"
   ],
   "metadata": {}
  },
  {
   "cell_type": "code",
   "execution_count": 2,
   "source": [
    "for i in 'hello':\n",
    "    print(i)"
   ],
   "outputs": [
    {
     "output_type": "stream",
     "name": "stdout",
     "text": [
      "h\n",
      "e\n",
      "l\n",
      "l\n",
      "o\n"
     ]
    }
   ],
   "metadata": {}
  },
  {
   "cell_type": "markdown",
   "source": [
    "**while**"
   ],
   "metadata": {}
  },
  {
   "cell_type": "code",
   "execution_count": 3,
   "source": [
    "prod = 1\n",
    "i = 1\n",
    "while i < 10:\n",
    "    prod *= i\n",
    "    i += 1\n",
    "print(prod)"
   ],
   "outputs": [
    {
     "output_type": "stream",
     "name": "stdout",
     "text": [
      "362880\n"
     ]
    }
   ],
   "metadata": {}
  },
  {
   "cell_type": "markdown",
   "source": [
    "**break/continue**"
   ],
   "metadata": {}
  },
  {
   "cell_type": "code",
   "execution_count": 4,
   "source": [
    "for n in range(2, 10):\n",
    "    if n % 2 == 0:\n",
    "        print('Found an even number', n)\n",
    "        continue\n",
    "    if n > 5:\n",
    "        print('GT 5!')\n",
    "        break"
   ],
   "outputs": [
    {
     "output_type": "stream",
     "name": "stdout",
     "text": [
      "Found an even number 2\n",
      "Found an even number 4\n",
      "Found an even number 6\n",
      "GT 5!\n"
     ]
    }
   ],
   "metadata": {}
  },
  {
   "cell_type": "markdown",
   "source": [
    "**iterators/generators**"
   ],
   "metadata": {}
  },
  {
   "cell_type": "code",
   "execution_count": 5,
   "source": [
    "python = iter('python')\n",
    "print(python)"
   ],
   "outputs": [
    {
     "output_type": "stream",
     "name": "stdout",
     "text": [
      "<str_iterator object at 0x7fb1e9d3f0a0>\n"
     ]
    }
   ],
   "metadata": {}
  },
  {
   "cell_type": "code",
   "execution_count": 6,
   "source": [
    "for i in python:\n",
    "    print(i)"
   ],
   "outputs": [
    {
     "output_type": "stream",
     "name": "stdout",
     "text": [
      "p\n",
      "y\n",
      "t\n",
      "h\n",
      "o\n",
      "n\n"
     ]
    }
   ],
   "metadata": {}
  },
  {
   "cell_type": "code",
   "execution_count": 7,
   "source": [
    "def reverse(data):\n",
    "    for i in range(len(data)-1, -1, -1):\n",
    "        yield data[i]\n",
    "        \n",
    "nohtyp = reverse('python')\n",
    "print(nohtyp)"
   ],
   "outputs": [
    {
     "output_type": "stream",
     "name": "stdout",
     "text": [
      "<generator object reverse at 0x7fb1e9d50190>\n"
     ]
    }
   ],
   "metadata": {}
  },
  {
   "cell_type": "code",
   "execution_count": 8,
   "source": [
    "for i in nohtyp:\n",
    "    print(i)"
   ],
   "outputs": [
    {
     "output_type": "stream",
     "name": "stdout",
     "text": [
      "n\n",
      "o\n",
      "h\n",
      "t\n",
      "y\n",
      "p\n"
     ]
    }
   ],
   "metadata": {}
  },
  {
   "cell_type": "markdown",
   "source": [
    "**list**"
   ],
   "metadata": {}
  },
  {
   "cell_type": "code",
   "execution_count": 9,
   "source": [
    "s = [2**x for x in range(10) if x%2==0]\n",
    "print(s)"
   ],
   "outputs": [
    {
     "output_type": "stream",
     "name": "stdout",
     "text": [
      "[1, 4, 16, 64, 256]\n"
     ]
    }
   ],
   "metadata": {}
  },
  {
   "cell_type": "code",
   "execution_count": 10,
   "source": [
    "pairs = [(x, y) for x in range(4) for y in range(4)]\n",
    "print(pairs)"
   ],
   "outputs": [
    {
     "output_type": "stream",
     "name": "stdout",
     "text": [
      "[(0, 0), (0, 1), (0, 2), (0, 3), (1, 0), (1, 1), (1, 2), (1, 3), (2, 0), (2, 1), (2, 2), (2, 3), (3, 0), (3, 1), (3, 2), (3, 3)]\n"
     ]
    }
   ],
   "metadata": {}
  },
  {
   "cell_type": "markdown",
   "source": [
    "**set**"
   ],
   "metadata": {}
  },
  {
   "cell_type": "code",
   "execution_count": 11,
   "source": [
    "s = {2**x for x in range(10) if x%2==0}\n",
    "print(s)"
   ],
   "outputs": [
    {
     "output_type": "stream",
     "name": "stdout",
     "text": [
      "{64, 1, 256, 4, 16}\n"
     ]
    }
   ],
   "metadata": {}
  },
  {
   "cell_type": "code",
   "execution_count": 12,
   "source": [
    "pairs = set([(x, y) for x in range(4) for y in range(4)])\n",
    "print(pairs)"
   ],
   "outputs": [
    {
     "output_type": "stream",
     "name": "stdout",
     "text": [
      "{(0, 1), (1, 2), (2, 1), (0, 0), (3, 1), (1, 1), (0, 3), (2, 0), (3, 0), (2, 3), (0, 2), (3, 3), (2, 2), (1, 0), (3, 2), (1, 3)}\n"
     ]
    }
   ],
   "metadata": {}
  },
  {
   "cell_type": "markdown",
   "source": [
    "**dict**"
   ],
   "metadata": {}
  },
  {
   "cell_type": "code",
   "execution_count": 13,
   "source": [
    "sl = {s: len(s) for s in ['python', 'java', 'go']}\n",
    "print(sl)"
   ],
   "outputs": [
    {
     "output_type": "stream",
     "name": "stdout",
     "text": [
      "{'python': 6, 'java': 4, 'go': 2}\n"
     ]
    }
   ],
   "metadata": {}
  },
  {
   "cell_type": "markdown",
   "source": [
    "**definitions**"
   ],
   "metadata": {}
  },
  {
   "cell_type": "code",
   "execution_count": 14,
   "source": [
    "def f():\n",
    "    \"\"\"This function returns 1.\"\"\"\n",
    "    return 1\n",
    "\n",
    "\n",
    "print(f.__doc__)"
   ],
   "outputs": [
    {
     "output_type": "stream",
     "name": "stdout",
     "text": [
      "This function returns 1.\n"
     ]
    }
   ],
   "metadata": {}
  },
  {
   "cell_type": "markdown",
   "source": [
    "**default arguments**"
   ],
   "metadata": {}
  },
  {
   "cell_type": "code",
   "execution_count": 15,
   "source": [
    "def f(name='python'):\n",
    "    return \"Hello, {}!\".format(name)\n",
    "\n",
    "\n",
    "print(f())"
   ],
   "outputs": [
    {
     "output_type": "stream",
     "name": "stdout",
     "text": [
      "Hello, python!\n"
     ]
    }
   ],
   "metadata": {}
  },
  {
   "cell_type": "markdown",
   "source": [
    "**kewword argumets**"
   ],
   "metadata": {}
  },
  {
   "cell_type": "code",
   "execution_count": 16,
   "source": [
    "def f(v, l='Python'):\n",
    "    return \"{}, {}!\".format(v, l)\n",
    "\n",
    "\n",
    "print(f('Hello'))"
   ],
   "outputs": [
    {
     "output_type": "stream",
     "name": "stdout",
     "text": [
      "Hello, Python!\n"
     ]
    }
   ],
   "metadata": {}
  },
  {
   "cell_type": "markdown",
   "source": [
    "**arbitrary arguments**"
   ],
   "metadata": {}
  },
  {
   "cell_type": "code",
   "execution_count": 17,
   "source": [
    "def f(*args, con='&'):\n",
    "    print(isinstance(args, tuple))\n",
    "    print('Hello', con.join(args))\n",
    "\n",
    "\n",
    "f('python', 'C', 'C++', con='/')"
   ],
   "outputs": [
    {
     "output_type": "stream",
     "name": "stdout",
     "text": [
      "True\n",
      "Hello python/C/C++\n"
     ]
    }
   ],
   "metadata": {}
  },
  {
   "cell_type": "code",
   "execution_count": 18,
   "source": [
    "def f(*args, **kwargs):\n",
    "    print('args', args)\n",
    "    print('kwargs', kwargs)\n",
    "    \n",
    "    \n",
    "f('python', 'java', ms='c++', fp='go')"
   ],
   "outputs": [
    {
     "output_type": "stream",
     "name": "stdout",
     "text": [
      "args ('python', 'java')\n",
      "kwargs {'ms': 'c++', 'fp': 'go'}\n"
     ]
    }
   ],
   "metadata": {}
  },
  {
   "cell_type": "markdown",
   "source": [
    "**lambda**"
   ],
   "metadata": {}
  },
  {
   "cell_type": "code",
   "execution_count": 19,
   "source": [
    "pairs = [(1, 'one'), (2, 'two'), (3, 'three'), (4, 'four')]\n",
    "pairs.sort(key=lambda pair: pair[1])\n",
    "print(pairs)"
   ],
   "outputs": [
    {
     "output_type": "stream",
     "name": "stdout",
     "text": [
      "[(4, 'four'), (1, 'one'), (3, 'three'), (2, 'two')]\n"
     ]
    }
   ],
   "metadata": {}
  },
  {
   "cell_type": "markdown",
   "source": [
    "**decorator**"
   ],
   "metadata": {}
  },
  {
   "cell_type": "code",
   "execution_count": 20,
   "source": [
    "def log(f):\n",
    "    def wrapper():\n",
    "        print('start-log')\n",
    "        f()\n",
    "        print('bye-log')\n",
    "    return wrapper\n",
    "\n",
    "@log\n",
    "def fa():\n",
    "    print('This is fa!')\n",
    "\n",
    "fa()"
   ],
   "outputs": [
    {
     "output_type": "stream",
     "name": "stdout",
     "text": [
      "start-log\n",
      "This is fa!\n",
      "bye-log\n"
     ]
    }
   ],
   "metadata": {}
  },
  {
   "cell_type": "code",
   "execution_count": 2,
   "source": [
    "# making a decorator look like the decorated function\n",
    "from functools import wraps\n",
    "\n",
    "\n",
    "def decorator(func):\n",
    "    # Copies the docstring, name,\n",
    "    # annotations and module to the decorator @wraps(func)\n",
    "    def wrapped_func(*args, **kwargs):\n",
    "        return func(*args, **kwargs)\n",
    "    return wrapped_func\n",
    "\n",
    "@decorator\n",
    "def test():\n",
    "    pass\n",
    "\n",
    "test.__name__"
   ],
   "outputs": [
    {
     "output_type": "execute_result",
     "data": {
      "text/plain": [
       "'wrapped_func'"
      ]
     },
     "metadata": {},
     "execution_count": 2
    }
   ],
   "metadata": {}
  },
  {
   "cell_type": "code",
   "execution_count": 3,
   "source": [
    "# as a class\n",
    "class Decorator(object):\n",
    "    def __init__(self, func):\n",
    "        # Copies name, module, \n",
    "        # annotations and docstring to the instance.\n",
    "        self._wrapped = wraps(func)(self)\n",
    "    \n",
    "    def __call__(self, *args, **kwargs):\n",
    "        return self._wrapped(*args, **kwargs)\n",
    "\n",
    "@Decorator \n",
    "def test():\n",
    "    \"\"\"Docstring of test.\"\"\"\n",
    "    pass\n",
    "\n",
    "test.__doc__"
   ],
   "outputs": [
    {
     "output_type": "execute_result",
     "data": {
      "text/plain": [
       "'Docstring of test.'"
      ]
     },
     "metadata": {},
     "execution_count": 3
    }
   ],
   "metadata": {}
  },
  {
   "cell_type": "code",
   "execution_count": null,
   "source": [],
   "outputs": [],
   "metadata": {}
  },
  {
   "cell_type": "markdown",
   "source": [
    "**class**"
   ],
   "metadata": {}
  },
  {
   "cell_type": "code",
   "execution_count": 21,
   "source": [
    "class Animal:\n",
    "    \"\"\"This is animal\"\"\"\n",
    "    def __init__(self, can_fly=False):\n",
    "        self.can_fly = can_fly\n",
    "    \n",
    "    def fly(self):\n",
    "        if self.can_fly:\n",
    "            print('I can fly')\n",
    "        else:\n",
    "            print('I can not fly')\n",
    "\n",
    "a = Animal()\n",
    "a.fly()\n",
    "\n",
    "print(isinstance(a, Animal))"
   ],
   "outputs": [
    {
     "output_type": "stream",
     "name": "stdout",
     "text": [
      "I can not fly\n",
      "True\n"
     ]
    }
   ],
   "metadata": {}
  },
  {
   "cell_type": "code",
   "execution_count": 1,
   "source": [
    "class D(object): \n",
    "    multiplier = 2\n",
    "\n",
    "    @classmethod \n",
    "    def f(cls, x):\n",
    "        return cls.multiplier * x\n",
    "\n",
    "    @staticmethod\n",
    "    def g(name):\n",
    "        print(\"Hello, %s\" % name)\n",
    "\n",
    "\n",
    "D.f"
   ],
   "outputs": [
    {
     "output_type": "execute_result",
     "data": {
      "text/plain": [
       "<bound method D.f of <class '__main__.D'>>"
      ]
     },
     "metadata": {},
     "execution_count": 1
    }
   ],
   "metadata": {}
  },
  {
   "cell_type": "code",
   "execution_count": null,
   "source": [
    "D.f"
   ],
   "outputs": [],
   "metadata": {}
  },
  {
   "cell_type": "code",
   "execution_count": 2,
   "source": [
    "D.g"
   ],
   "outputs": [
    {
     "output_type": "execute_result",
     "data": {
      "text/plain": [
       "<function __main__.D.g(name)>"
      ]
     },
     "metadata": {},
     "execution_count": 2
    }
   ],
   "metadata": {}
  },
  {
   "cell_type": "code",
   "execution_count": 5,
   "source": [
    "# Monkey Patching - 1\n",
    "# new-style class \n",
    "# Old-style classes do not inherit from object\n",
    "class A(object):\n",
    "    def __init__(self, num):\n",
    "        self.num = num\n",
    "\n",
    "    def __add__(self, other):\n",
    "        return A(self.num + other.num)"
   ],
   "outputs": [],
   "metadata": {}
  },
  {
   "cell_type": "code",
   "execution_count": 6,
   "source": [
    "# Monkey Patching - 2\n",
    "def get_num(self): \n",
    "    return self.num\n",
    "\n",
    "\n",
    "A.get_num = get_num"
   ],
   "outputs": [],
   "metadata": {}
  },
  {
   "cell_type": "code",
   "execution_count": 8,
   "source": [
    "# properties\n",
    "class MyClass(object): \n",
    "    def __init__(self):\n",
    "        self._my_string = \"\"\n",
    "    \n",
    "    @property\n",
    "    def string(self):\n",
    "        \"\"\"A profoundly important string.\"\"\"\n",
    "        return self._my_string\n",
    "\n",
    "    @string.setter\n",
    "    def string(self, new_value):\n",
    "        assert isinstance(new_value, str), \"Give me a string, not a %r!\" % type(new_value)\n",
    "        self._my_string = new_value\n",
    "\n",
    "    @string.deleter\n",
    "    def x(self):\n",
    "        self._my_string = None\n",
    "\n",
    "\n",
    "mc = MyClass() \n",
    "mc.string = \"String!\" \n",
    "print(mc.string)"
   ],
   "outputs": [
    {
     "output_type": "stream",
     "name": "stdout",
     "text": [
      "String!\n"
     ]
    }
   ],
   "metadata": {}
  },
  {
   "cell_type": "markdown",
   "source": [
    "**import**"
   ],
   "metadata": {}
  },
  {
   "cell_type": "code",
   "execution_count": 22,
   "source": [
    "import os\n",
    "print(os.name)"
   ],
   "outputs": [
    {
     "output_type": "stream",
     "name": "stdout",
     "text": [
      "posix\n"
     ]
    }
   ],
   "metadata": {}
  },
  {
   "cell_type": "code",
   "execution_count": 23,
   "source": [
    "from sys import version_info\n",
    "\n",
    "print('version: {}'.format(version_info))"
   ],
   "outputs": [
    {
     "output_type": "stream",
     "name": "stdout",
     "text": [
      "version: sys.version_info(major=3, minor=8, micro=5, releaselevel='final', serial=0)\n"
     ]
    }
   ],
   "metadata": {}
  },
  {
   "cell_type": "code",
   "execution_count": 24,
   "source": [
    "sys.path"
   ],
   "outputs": [
    {
     "output_type": "execute_result",
     "data": {
      "text/plain": [
       "['/Users/paulsokolov/Documents/GitHub/python',\n",
       " '/Users/paulsokolov/.vscode/extensions/ms-toolsai.jupyter-2021.8.1236758218/pythonFiles',\n",
       " '/Users/paulsokolov/.vscode/extensions/ms-toolsai.jupyter-2021.8.1236758218/pythonFiles/lib/python',\n",
       " '/opt/anaconda3/lib/python38.zip',\n",
       " '/opt/anaconda3/lib/python3.8',\n",
       " '/opt/anaconda3/lib/python3.8/lib-dynload',\n",
       " '',\n",
       " '/Users/paulsokolov/.local/lib/python3.8/site-packages',\n",
       " '/opt/anaconda3/lib/python3.8/site-packages',\n",
       " '/opt/anaconda3/lib/python3.8/site-packages/IPython/extensions',\n",
       " '/Users/paulsokolov/.ipython']"
      ]
     },
     "metadata": {},
     "execution_count": 24
    }
   ],
   "metadata": {}
  },
  {
   "cell_type": "code",
   "execution_count": null,
   "source": [],
   "outputs": [],
   "metadata": {}
  }
 ],
 "metadata": {
  "kernelspec": {
   "name": "python3",
   "display_name": "Python 3.6.13 64-bit ('ML-DL': conda)"
  },
  "language_info": {
   "codemirror_mode": {
    "name": "ipython",
    "version": 3
   },
   "file_extension": ".py",
   "mimetype": "text/x-python",
   "name": "python",
   "nbconvert_exporter": "python",
   "pygments_lexer": "ipython3",
   "version": "3.6.13"
  },
  "interpreter": {
   "hash": "ba341bef63b4210a7943536c100ae13a279114042bbbbf5c8549cbf0798c0bcc"
  }
 },
 "nbformat": 4,
 "nbformat_minor": 4
}